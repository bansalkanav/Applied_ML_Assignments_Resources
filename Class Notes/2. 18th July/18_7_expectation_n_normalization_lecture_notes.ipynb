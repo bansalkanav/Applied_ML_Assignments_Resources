{
 "cells": [
  {
   "cell_type": "markdown",
   "metadata": {},
   "source": [
    "**Why should we learn distributions?**"
   ]
  },
  {
   "cell_type": "markdown",
   "metadata": {},
   "source": [
    "  Given 'n' observations of real-estate property prices and H be the random variable\n",
    "  $$h_i \\in \\mathbb{R}$$ \n",
    "  Let average price of property be Rs.5000000 i.e $$\\mu = 5000000$$\n",
    "  and variance of the data be Rs.1500000 i.e $$ \\sigma = 1500000 $$"
   ]
  },
  {
   "cell_type": "markdown",
   "metadata": {},
   "source": [
    "if the random variable H is following normal distribution i.e $$ H \\sim N(\\mu = 50L,    \\sigma = 15L) $$"
   ]
  },
  {
   "cell_type": "markdown",
   "metadata": {},
   "source": [
    "and the distribution curve looks like this"
   ]
  },
  {
   "cell_type": "code",
   "execution_count": 12,
   "metadata": {},
   "outputs": [
    {
     "data": {
      "image/png": "[encoded data removed]",
      "text/plain": [
       "<matplotlib.figure.Figure at 0x7fc3ce3e0f10>"
      ]
     },
     "metadata": {},
     "output_type": "display_data"
    }
   ],
   "source": [
    "#plotting normal distribution curve given mean and variance assume that x-axis values \n",
    "import matplotlib.pyplot as plt\n",
    "import numpy as np\n",
    "import matplotlib.mlab as mlab\n",
    "import math\n",
    "\n",
    "mu = 50\n",
    "variance = 15\n",
    "sigma = math.sqrt(variance)\n",
    "x = np.linspace(mu-3*variance,mu+3*variance)\n",
    "plt.plot(x,mlab.normpdf(x, mu, sigma))\n",
    "\n",
    "plt.show()"
   ]
  },
  {
   "cell_type": "markdown",
   "metadata": {},
   "source": [
    "As we know that for normally distributed data,$$ 65\\% \\  of \\ distribution \\  will \\  be \\  between \\  \\mu+\\sigma \\  to \\  \\mu-\\sigma \\ ( i.e\\ 40L \\  to\\ 60L) $$   $$ 95\\% \\  of \\ distribution \\  will \\  be \\  between \\  \\mu+2*\\sigma \\  to \\  \\mu-2*\\sigma \\  (i.e\\ 20L \\  to\\ 80L)  $$    $$ 99.7\\% \\  of \\ distribution \\  will \\  be \\  between \\  \\mu+3*\\sigma \\  to \\  \\mu-3*\\sigma \\  (i.e\\ 5L \\  to\\ 95L)  $$ "
   ]
  },
  {
   "cell_type": "markdown",
   "metadata": {},
   "source": [
    "**Note:** if we know that given data belongs to one of the distributions then it is easy to understand the characteristics of data with the minimal parameters known(i.e in above example we dont know any of pricing values but yet we can tell about the data)."
   ]
  },
  {
   "cell_type": "markdown",
   "metadata": {},
   "source": [
    "but there is a **problem** if we consider mean and standard deviation as parametes \n",
    "because when we have either **corrupted values or wrongly mentioned values** this directly effects our **mean** value \n",
    "for example,\n",
    "consider we have a sample of 6 house prices \n",
    "\n"
   ]
  },
  {
   "cell_type": "markdown",
   "metadata": {},
   "source": [
    "$$ h_1 = 2L,\\ h_2 = 23L,\\ h_3 = 49L,\\ h_4 = 51L,\\ h_5 = 75L,\\ h_6 = 1010L(i.e \\ corrupted\\  the\\ original\\  h_6=100L) $$ "
   ]
  },
  {
   "cell_type": "markdown",
   "metadata": {},
   "source": [
    "$$ mean(\\mu) \\  = \\ \\frac{2+23+49+51+75+1010}{6} $$ "
   ]
  },
  {
   "cell_type": "markdown",
   "metadata": {},
   "source": [
    "$$ mean(\\mu)\\ = 201.667 \\ (i.e\\ this\\ tells\\ nothing\\ about\\ the\\ data)$$"
   ]
  },
  {
   "cell_type": "markdown",
   "metadata": {},
   "source": [
    "So, when we have **possibility of outliers or largely skewed values** \n",
    "considering Mean and Variance needs to be taken care. \n"
   ]
  },
  {
   "cell_type": "markdown",
   "metadata": {},
   "source": [
    "2. Let us consider another example, suppose we have 10000 list of property prices of random variable H and have been told that the data is normally distributed. what is the mean and variance?*"
   ]
  },
  {
   "cell_type": "markdown",
   "metadata": {},
   "source": [
    ">given, $$ H \\sim N(\\mu_h,\\    \\sigma_h\\ ) $$ $$  h_i \\in \\mathbb{R}  $$"
   ]
  },
  {
   "cell_type": "markdown",
   "metadata": {},
   "source": [
    ">approach-1: $$ \\mu_h = \\frac{\\sum_{i=0}^n h_i}{10000} $$ this has a problem because of the Outliers or Largely skewed values"
   ]
  },
  {
   "cell_type": "markdown",
   "metadata": {},
   "source": [
    ">approach-2: Central Limit theorem\n",
    "$$ Randomly\\ pick\\ a\\ 100\\ sample\\ property\\ prices\\ and\\ caliculate\\ Mean\\ of\\ these\\ and\\ let\\ it\\ be\\ \"\\mu_1\" $$ \n",
    "$$ Randomly\\ pick\\ another\\ 100\\ sample\\ property\\ prices\\ and\\ caliculate\\ Mean\\ of\\ these\\ and\\ let\\ it\\ be\\ \"\\mu_2\" $$ \n",
    "**$$.$$**\n",
    "**$$.$$**\n",
    "**$$.$$**\n",
    "$$ Randomly\\ pick\\ another\\ 100\\ sample\\ property\\ prices\\ and\\ caliculate\\ Mean\\ of\\ these\\ and\\ let\\ it\\ be\\ \"\\mu_{n}\" $$ \n",
    "caliculate the mean of all these Mean values,\n",
    "$$ \\mu_h = \\frac{\\sum_{i=0}^n \\mu_i}{n} $$"
   ]
  },
  {
   "cell_type": "markdown",
   "metadata": {},
   "source": [
    "**Note:** in this case if 20% of the data gets corrupted $\\mu_h$ is also corrupted. As the outliers increases CLT also fails."
   ]
  },
  {
   "cell_type": "markdown",
   "metadata": {},
   "source": [
    ">approach-3:\n",
    "Considering the median $h_{i/2}$ (i.e after all the $h_i$'s are sorted). if our distribution is a gaussian distribution then Mean($\\mu_{h}$) = Median($h_i$)\n",
    "Let us follow the incremental approach to caliculate the Median($h_i$)\n",
    "$$ \\mu_h - 1L\\ +\\  \\mu_h + 1L ==> X_1\\% $$\n",
    "$$ \\mu_h - 2L\\ +\\  \\mu_h + 2L ==> X_2\\% $$\n",
    "$$ \\mu_h - 3L\\ +\\  \\mu_h + 3L ==> X_3\\% $$\n",
    "$$.$$\n",
    "$$.$$\n",
    "$$.$$\n",
    "$$ \\mu_h - n*1L\\ +\\  \\mu_h + n*1L ==> X_n\\%\\ (X_n = 65\\%) $$\n",
    "$$ ==> \"n\"\\ is\\ the\\ variance\\ $$"
   ]
  },
  {
   "cell_type": "markdown",
   "metadata": {},
   "source": [
    "**Note:** if our distribution looks almost similar to the Gausian distribution but it is some what right skewed then the difference between the Gausian curve on right to our distribution is where the **outliers or extreme data ocuurs**. "
   ]
  },
  {
   "cell_type": "markdown",
   "metadata": {},
   "source": [
    "**Expectation:**"
   ]
  },
  {
   "cell_type": "markdown",
   "metadata": {},
   "source": [
    "* Consider an example of the probability distribution of a discrete random variable X: \n",
    "\n",
    "\n",
    "  |  x   |   0  |   1  |   2  |\n",
    "  |----- |------|------|------|\n",
    "  | p(x) | 0.16 | 0.48 | 0.36 |\n",
    "\n",
    "    Here X represents the random variable, \n",
    "    where \"x\" represents the values that the random variable take on and \n",
    "    p(x) represents probability that each value assigned to the random variable X"
   ]
  },
  {
   "cell_type": "markdown",
   "metadata": {},
   "source": [
    "*Expected value of Discrete Random Variable:* Given a number of repeated trails,  the average of the results will be approximately equal to the expected value. this is represented as E(X)\n",
    "$$ where\\ E(X)\\ = \\sum_{i=1}^n x.p(x) $$\n",
    "$$ x\\ =\\ value\\ of\\ the\\ i^{th}\\ outcome $$\n",
    "$$ p\\ =\\ probability\\ of\\ the\\ i^{th}\\ outcome $$\n",
    "$$ E(X)\\ in\\ other\\ words\\ it\\ is\\ considered\\ as\\ Mean(\\mu)\\ of\\ the\\ Random\\ Variable $$"
   ]
  },
  {
   "cell_type": "markdown",
   "metadata": {},
   "source": [
    "$$ E(X) = 0*0.16\\ +\\ 1*0.48\\ +\\ 2*0.36 $$\n",
    "$$ E(X)\\ =\\ 1.2 $$ "
   ]
  },
  {
   "cell_type": "markdown",
   "metadata": {},
   "source": [
    "**Note** : result of the E(X) is not the probable value from the given $x_i$, it is the theoritical Mean of the Random Variable X. "
   ]
  },
  {
   "cell_type": "markdown",
   "metadata": {},
   "source": [
    "If suppose we need to caliculate expectation of a function g(x) then,\n",
    "$$ E(g(X))\\ =\\ \\sum_{i=1}^n g(x).p(x) $$  \n",
    "$$ Here,\\ we\\ take\\ the\\ values\\ of\\ the\\ function\\ of\\ g(x)\\ and\\ multiply\\ thier\\ each\\ individual\\ probabilities. $$ "
   ]
  },
  {
   "cell_type": "markdown",
   "metadata": {},
   "source": [
    "**Home work:** prove $ E((X\\ -\\ \\mu)^2) =\\ \\sigma^2 ? $ "
   ]
  },
  {
   "cell_type": "markdown",
   "metadata": {},
   "source": [
    "* consider another example of two random variables consisting of heights(inches) and weights(pounds). plot the graph using 2D-scatter plot?"
   ]
  },
  {
   "cell_type": "code",
   "execution_count": 1,
   "metadata": {
    "collapsed": true
   },
   "outputs": [],
   "source": [
    "#given heights in inches and width in pounds of asample of 200 people from birth to 18 years old\n",
    "import pandas as pd\n",
    "import seaborn as sns\n",
    "import matplotlib.pyplot as plt\n",
    "\n",
    "\n",
    "#Load heights.csv into a pandas dataFrame.\n",
    "h_w = pd.read_csv(\"heights.csv\")"
   ]
  },
  {
   "cell_type": "code",
   "execution_count": 11,
   "metadata": {},
   "outputs": [
    {
     "name": "stdout",
     "output_type": "stream",
     "text": [
      "(200, 2)\n"
     ]
    }
   ],
   "source": [
    "# (Q) how many data-points and featrues are there?\n",
    "print (h_w.shape)"
   ]
  },
  {
   "cell_type": "code",
   "execution_count": 13,
   "metadata": {},
   "outputs": [
    {
     "name": "stdout",
     "output_type": "stream",
     "text": [
      "Index([u'height(inches)', u'weight(pounds)'], dtype='object')\n"
     ]
    }
   ],
   "source": [
    "#(Q) What are the column names in our dataset?\n",
    "print (h_w.columns)"
   ]
  },
  {
   "cell_type": "code",
   "execution_count": 15,
   "metadata": {},
   "outputs": [
    {
     "data": {
      "image/png": "[encoded data removed]",
      "text/plain": [
       "<matplotlib.figure.Figure at 0x7f2ab35f9810>"
      ]
     },
     "metadata": {},
     "output_type": "display_data"
    }
   ],
   "source": [
    "#2-D scatter plot:\n",
    "#ALWAYS understand the axis: labels and scale.\n",
    "\n",
    "h_w.plot(kind='scatter', x='height(inches)', y='weight(pounds)') ;\n",
    "plt.show()"
   ]
  },
  {
   "cell_type": "markdown",
   "metadata": {},
   "source": [
    "If we observe the scatter plot axis one is measured in \"inches\" and the other is measured in \"pounds\". These two measurments are no where related to each other."
   ]
  },
  {
   "cell_type": "code",
   "execution_count": 19,
   "metadata": {
    "collapsed": true
   },
   "outputs": [],
   "source": [
    "# therefore we transform all the data column wise fitting each cell between the range 0 to 1.\n",
    "from sklearn import preprocessing\n",
    "import pandas as pd\n",
    "\n",
    "x = h_w.values #returns a numpy array\n",
    "min_max_scaler = preprocessing.MinMaxScaler() # x[0][i] = (x[0][i] - x[0].min)/ (x[0].max - x[0].min)\n",
    "x_scaled = min_max_scaler.fit_transform(x)\n",
    "h_w = pd.DataFrame(x_scaled)"
   ]
  },
  {
   "cell_type": "code",
   "execution_count": 21,
   "metadata": {},
   "outputs": [
    {
     "data": {
      "text/html": [
       "<div>\n",
       "<style>\n",
       "    .dataframe thead tr:only-child th {\n",
       "        text-align: right;\n",
       "    }\n",
       "\n",
       "    .dataframe thead th {\n",
       "        text-align: left;\n",
       "    }\n",
       "\n",
       "    .dataframe tbody tr th {\n",
       "        vertical-align: top;\n",
       "    }\n",
       "</style>\n",
       "<table border=\"1\" class=\"dataframe\">\n",
       "  <thead>\n",
       "    <tr style=\"text-align: right;\">\n",
       "      <th></th>\n",
       "      <th>0</th>\n",
       "      <th>1</th>\n",
       "    </tr>\n",
       "  </thead>\n",
       "  <tbody>\n",
       "    <tr>\n",
       "      <th>0</th>\n",
       "      <td>0.224451</td>\n",
       "      <td>0.247134</td>\n",
       "    </tr>\n",
       "    <tr>\n",
       "      <th>1</th>\n",
       "      <td>0.772684</td>\n",
       "      <td>0.632001</td>\n",
       "    </tr>\n",
       "    <tr>\n",
       "      <th>2</th>\n",
       "      <td>0.570201</td>\n",
       "      <td>0.902882</td>\n",
       "    </tr>\n",
       "    <tr>\n",
       "      <th>3</th>\n",
       "      <td>0.457498</td>\n",
       "      <td>0.727809</td>\n",
       "    </tr>\n",
       "    <tr>\n",
       "      <th>4</th>\n",
       "      <td>0.416428</td>\n",
       "      <td>0.759908</td>\n",
       "    </tr>\n",
       "  </tbody>\n",
       "</table>\n",
       "</div>"
      ],
      "text/plain": [
       "          0         1\n",
       "0  0.224451  0.247134\n",
       "1  0.772684  0.632001\n",
       "2  0.570201  0.902882\n",
       "3  0.457498  0.727809\n",
       "4  0.416428  0.759908"
      ]
     },
     "execution_count": 21,
     "metadata": {},
     "output_type": "execute_result"
    }
   ],
   "source": [
    "#check the values whether they are transformed or not.\n",
    "h_w.head()"
   ]
  },
  {
   "cell_type": "code",
   "execution_count": 24,
   "metadata": {},
   "outputs": [
    {
     "data": {
      "text/plain": [
       "RangeIndex(start=0, stop=2, step=1)"
      ]
     },
     "execution_count": 24,
     "metadata": {},
     "output_type": "execute_result"
    }
   ],
   "source": [
    "h_w.columns"
   ]
  },
  {
   "cell_type": "code",
   "execution_count": 2,
   "metadata": {},
   "outputs": [
    {
     "data": {
      "image/png": "[encoded data removed]",
      "text/plain": [
       "<matplotlib.figure.Figure at 0x7ff68c3fd990>"
      ]
     },
     "metadata": {},
     "output_type": "display_data"
    }
   ],
   "source": [
    "#Now we have two columns named as 0 and 1(i.e because whatever the feature is we have scaled it from 0 to 1).\n",
    "h_w.plot(kind='scatter', x=0, y=1) ;\n",
    "plt.show()"
   ]
  },
  {
   "cell_type": "markdown",
   "metadata": {},
   "source": [
    "If \"D\" is our original DataSet After the transformation of our DataSet. Let us consider it as the $D_N$.\n",
    "$$ i.e\\  D\\ \\sim\\ D_N $$\n",
    "$$ let\\ us\\ say\\ the\\ Avg_N^0\\ as\\ the\\ new\\ Mean\\ of\\ 0^{th}\\ column.\\  Avg_N^0\\ =\\ 0.5 $$\n",
    "$$ and\\ Avg_N^1\\ as\\ the\\ new\\ Mean\\ of\\ 1^{st}\\ column.\\ Avg_N^1\\ =\\ 0.5 $$\n",
    "\n",
    "The transformation of the data from different scalea to a common scale if referred as **\"Data Normalization\"**\n"
   ]
  },
  {
   "cell_type": "markdown",
   "metadata": {},
   "source": [
    "Important Observations about **Data Normalization:**"
   ]
  },
  {
   "cell_type": "markdown",
   "metadata": {},
   "source": [
    "  1. Plots of D and $D_N$ looks similar because the distance of the dissimilarity is alomst maintained.\n",
    "  2. There is a major disadvantage with this method because in future if there is a new extreme data point(i.e maximum value of any one of the feature) to be added then we need to change all the values and should replot it again.\n",
    "  3. The Scale only ranges between 0 and 1.\n",
    "  4. It makes the data dimensionless and all the knowledge of the location, scale of the original data may be lost(i.e You can see that in the 2D scatter plot of the D when transformed to $D_N$ features are renamed as just 0 and 1)."
   ]
  },
  {
   "cell_type": "markdown",
   "metadata": {},
   "source": [
    "**Data Standardization:**  "
   ]
  },
  {
   "cell_type": "markdown",
   "metadata": {},
   "source": [
    "1. Standardizing a dataset involves rescaling the distribution of values so that the Mean($\\mu$) of observed values is 0 and the standard-deviation($\\sigma$) is 1.\n",
    "2. Standardization assumes that your observations fit a Gaussian distribution(i.e bell curve) with a well behaved Mean($\\mu$) and standard deviation($\\sigma$).\n",
    "3. Standardization requires that you know or are able to accurately estimate the Mean and standard-deviation of observable values. You may be able to estimate these values from your training data."
   ]
  },
  {
   "cell_type": "markdown",
   "metadata": {},
   "source": [
    "Considering the Height in our given Distribution D we can standardize it as follows,\n",
    "$$ Height_s = \\frac {h_i - \\mu_{hightD}}{\\sigma_{hightD}}  $$"
   ]
  },
  {
   "cell_type": "markdown",
   "metadata": {},
   "source": [
    "similarly, weight also caliculated as follows,\n",
    "$$ Weight_s = \\frac {w_i - \\mu_{weightD}}{\\sigma_{weightD}}$$"
   ]
  },
  {
   "cell_type": "code",
   "execution_count": 17,
   "metadata": {
    "scrolled": true
   },
   "outputs": [
    {
     "data": {
      "text/html": [
       "<div>\n",
       "<style>\n",
       "    .dataframe thead tr:only-child th {\n",
       "        text-align: right;\n",
       "    }\n",
       "\n",
       "    .dataframe thead th {\n",
       "        text-align: left;\n",
       "    }\n",
       "\n",
       "    .dataframe tbody tr th {\n",
       "        vertical-align: top;\n",
       "    }\n",
       "</style>\n",
       "<table border=\"1\" class=\"dataframe\">\n",
       "  <thead>\n",
       "    <tr style=\"text-align: right;\">\n",
       "      <th></th>\n",
       "      <th>0</th>\n",
       "      <th>1</th>\n",
       "    </tr>\n",
       "  </thead>\n",
       "  <tbody>\n",
       "    <tr>\n",
       "      <th>0</th>\n",
       "      <td>-1.121051</td>\n",
       "      <td>-1.192853</td>\n",
       "    </tr>\n",
       "    <tr>\n",
       "      <th>1</th>\n",
       "      <td>1.844583</td>\n",
       "      <td>0.776803</td>\n",
       "    </tr>\n",
       "    <tr>\n",
       "      <th>2</th>\n",
       "      <td>0.749262</td>\n",
       "      <td>2.163105</td>\n",
       "    </tr>\n",
       "    <tr>\n",
       "      <th>3</th>\n",
       "      <td>0.139602</td>\n",
       "      <td>1.267121</td>\n",
       "    </tr>\n",
       "    <tr>\n",
       "      <th>4</th>\n",
       "      <td>-0.082562</td>\n",
       "      <td>1.431399</td>\n",
       "    </tr>\n",
       "  </tbody>\n",
       "</table>\n",
       "</div>"
      ],
      "text/plain": [
       "          0         1\n",
       "0 -1.121051 -1.192853\n",
       "1  1.844583  0.776803\n",
       "2  0.749262  2.163105\n",
       "3  0.139602  1.267121\n",
       "4 -0.082562  1.431399"
      ]
     },
     "execution_count": 17,
     "metadata": {},
     "output_type": "execute_result"
    }
   ],
   "source": [
    "# therefore we transform all the data column wise fitting each cell between the range 0 to 1.\n",
    "from sklearn import preprocessing\n",
    "import numpy as np\n",
    "import pandas as pd\n",
    "h_w = pd.read_csv(\"heights.csv\")\n",
    "X = h_w.values #returns a numpy array\n",
    "X = preprocessing.scale(X)\n",
    "h_w = pd.DataFrame(X)\n",
    "h_w.head()"
   ]
  },
  {
   "cell_type": "code",
   "execution_count": 21,
   "metadata": {},
   "outputs": [
    {
     "data": {
      "image/png": "[encoded data removed]",
      "text/plain": [
       "<matplotlib.figure.Figure at 0x7f8dc51d59d0>"
      ]
     },
     "metadata": {},
     "output_type": "display_data"
    }
   ],
   "source": [
    "import matplotlib.pyplot as plt\n",
    "h_w.plot(kind='scatter', x=0, y=1) ;\n",
    "plt.show()"
   ]
  },
  {
   "cell_type": "markdown",
   "metadata": {},
   "source": [
    "important observations of **Data Standardization**:"
   ]
  },
  {
   "cell_type": "markdown",
   "metadata": {},
   "source": [
    "1. Plots of D and $D_S$ looks similar because the distance of the dissimilarity is alomst maintained.\n",
    "2. It makes the data dimensionless and all the knowledge of the location, scale of the original data may be lost(i.e You can see that in the 2D scatter plot of the D when transformed to $D_S$ features are renamed as just 0 and 1).\n",
    "3. $\\mu =\\ 0$ and $\\sigma^2 =\\ 1$.\n",
    "4. There is no problem even if we add extreme data points(i.e plots can be easily extended)."
   ]
  }
 ],
 "metadata": {
  "kernelspec": {
   "display_name": "Python 2",
   "language": "python",
   "name": "python2"
  },
  "language_info": {
   "codemirror_mode": {
    "name": "ipython",
    "version": 2
   },
   "file_extension": ".py",
   "mimetype": "text/x-python",
   "name": "python",
   "nbconvert_exporter": "python",
   "pygments_lexer": "ipython2",
   "version": "2.7.13"
  }
 },
 "nbformat": 4,
 "nbformat_minor": 2
}
