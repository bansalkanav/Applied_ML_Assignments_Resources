{
 "cells": [
  {
   "cell_type": "markdown",
   "metadata": {},
   "source": [
    "<pre>\n",
    "Q1.\n",
    "    a. Please download the data from <a href=\"http://archive.ics.uci.edu/ml/datasets/Liver+Disorders\">http://archive.ics.uci.edu/ml/datasets/Liver+Disorders </a>\n",
    "    b. Get to know about the features\n",
    "        i. given data set has 6 attributes and 1 output varaible\n",
    "    c. Find me the two most corelated feature out of 6 attributes with the output varaible\n",
    "    d. Prove that the features are correlated with output varaible using null hypothsis test\n",
    "        i.hint: consider 100 random samples from the data set and find out the correlation, repeat it for 50 times\n",
    "        </pre>"
   ]
  },
  {
   "cell_type": "markdown",
   "metadata": {},
   "source": [
    "<pre>\n",
    "Q2.\n",
    "    a. Simulate the coin tossing by writing a function wich gives the output \"head\" with 50% chance and \"tail\" with 50% chance\n",
    "    b. call the same function 250 times, find out the number tests which gave the output \"head\"\n",
    "    c. based on the result conclude that the coin is baised or not\n",
    "    d. prove your conclusion with the help of null hypothisis test\n",
    "    </pre>"
   ]
  },
  {
   "cell_type": "code",
   "execution_count": 11,
   "metadata": {
    "collapsed": true
   },
   "outputs": [],
   "source": [
    "import numpy as np\n",
    "import math\n",
    "def genarate_data():\n",
    "    X = np.linspace(-10,10, 500)\n",
    "    Y = [(4 / 3 ** 2) * (x - 3) ** 2 for x in X]\n",
    "    print(X)\n",
    "    print(Y)\n",
    "    return X, Y"
   ]
  },
  {
   "cell_type": "markdown",
   "metadata": {},
   "source": [
    "<pre>\n",
    "Q3. \n",
    "    a. call the function genarate_data() to get two vectors, \"X, Y = genarate_data()\"\n",
    "    b. find out the trasofrmation of given vectors which will help us to find the correlation between X, Y with the help of techniques that are discussed in the class (Pearson Product Moment Correlation, Spearman rank Order Correlation)\n",
    "        hint: use the techniques that are discussed in the class while solving \"X^2 + Y^2 =a^2 (circle data)\"\n",
    "    </pre>"
   ]
  },
  {
   "cell_type": "code",
   "execution_count": null,
   "metadata": {
    "collapsed": true
   },
   "outputs": [],
   "source": []
  }
 ],
 "metadata": {
  "kernelspec": {
   "display_name": "Python 2",
   "language": "python",
   "name": "python2"
  },
  "language_info": {
   "codemirror_mode": {
    "name": "ipython",
    "version": 2
   },
   "file_extension": ".py",
   "mimetype": "text/x-python",
   "name": "python",
   "nbconvert_exporter": "python",
   "pygments_lexer": "ipython2",
   "version": "2.7.13"
  }
 },
 "nbformat": 4,
 "nbformat_minor": 2
}
