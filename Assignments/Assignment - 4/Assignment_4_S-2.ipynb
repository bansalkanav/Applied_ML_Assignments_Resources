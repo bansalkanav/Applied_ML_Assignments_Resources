{
 "cells": [
  {
   "cell_type": "markdown",
   "metadata": {},
   "source": [
    "<pre>\n",
    "Q2.\n",
    "    a. Simulate the coin tossing by writing a function wich gives the output \"head\" with 50% chance and \"tail\" with 50% chance\n",
    "    b. call the same function 250 times, find out the number tests which gave the output \"head\"\n",
    "    c. based on the result conclude that the coin is baised or not\n",
    "    d. prove your conclusion with the help of null hypothisis test\n",
    "    </pre>"
   ]
  },
  {
   "cell_type": "markdown",
   "metadata": {},
   "source": [
    "# Null Hypothesis Demo using Coin Toss Example"
   ]
  },
  {
   "cell_type": "markdown",
   "metadata": {},
   "source": [
    "## Null Hypothesis Explained"
   ]
  },
  {
   "cell_type": "markdown",
   "metadata": {},
   "source": [
    "Suppose that you are trying to decide whether a coin is fair or biased in favor of heads. The null hypothesis is \n",
    "\n",
    "H0: the coin is fair (i.e., the probability of a head is 0.5), \n",
    "\n",
    "and the alternative hypothesis is \n",
    "\n",
    "Ha: the coin is biased in favor of a head (i.e. the probability of a head is greater than 0.5). \n",
    "\n",
    "You are allowed to toss the coin only 250 times, and on the basis of the outcomes, make your decision.\n",
    "\n",
    "We need to choose the significance level of the test. That's up to you. Two traditional numbers are 10%, 5% and 1%.\n",
    "\n",
    "Unfortunately, there is no standardized p-value level to reject a null hypothesis. Depending on which field you are in, the rejection levels can be p < 0.05 (5% significance level) to p < 0.025 (2.5% significance level). Or even P < 0.10 (10%).\n",
    "\n",
    "Basically, if you reject because p < 0.10, you are saying that if the null hypothesis is true, the probability of the data occurring is less than 10%. You feel that the null is unlikely to be true.\n",
    "<pre>\n",
    "Reference: http://www.csus.edu/indiv/j/jgehrman/courses/stat50/hypthesistests/9hyptest.htm\n",
    "Reference: https://stats.stackexchange.com/questions/21581/how-to-assess-whether-a-coin-tossed-900-times-and-comes-up-heads-490-times-is-bi\n",
    "Reference: http://20bits.com/article/hypothesis-testing-the-basics\n",
    "Reference: https://git.generalassemb.ly/render/view/ipynb?commit=e9c10074f90ad1f2e9d54a0a58a8361606dcb3e1&enc_url=68747470733a2f2f6769742e67656e6572616c617373656d622e6c792f7261772f70636c742f7461626c652d6f662d636f6e74656e74732f653963313030373466393061643166326539643534613061353861383336313630366463623365312f382e312e312d696e74726f2d746f2d62617965732f696e74726f2d746f2d626179657369616e2d737461746973746963732e6970796e62&nwo=pclt%2Ftable-of-contents&path=8.1.1-intro-to-bayes%2Fintro-to-bayesian-statistics.ipynb&repository_id=3446&repository_type=Repository\n",
    "</pre>\n"
   ]
  },
  {
   "cell_type": "code",
   "execution_count": 2,
   "metadata": {},
   "outputs": [
    {
     "name": "stdout",
     "output_type": "stream",
     "text": [
      "121\n"
     ]
    }
   ],
   "source": [
    "#Coin toss simulation\n",
    "import random             #Importing the random library.\n",
    "def coin_toss():\n",
    "    toss=random.randint(0,1)  #Toss variable's value randomly generated between the numer 0 and 1.\n",
    "    if toss==0:               #If the varaiable is equal to 0 then: \n",
    "        return 0              #Heads is displayed\n",
    "    else:                     #If the Toss is not 0 then: \n",
    "        return 1              #Tails is displayed\n",
    "\n",
    "\n",
    "# Lets call the above function 250 times, find out the number tests which gave the output \"head\"\n",
    "tries = 0\n",
    "heads = 0\n",
    "while tries < 250:\n",
    "    if coin_toss() is 0:\n",
    "        heads += 1\n",
    "    tries += 1\n",
    "print heads"
   ]
  },
  {
   "cell_type": "code",
   "execution_count": null,
   "metadata": {
    "collapsed": true
   },
   "outputs": [],
   "source": []
  }
 ],
 "metadata": {
  "kernelspec": {
   "display_name": "Python 2",
   "language": "python",
   "name": "python2"
  },
  "language_info": {
   "codemirror_mode": {
    "name": "ipython",
    "version": 2
   },
   "file_extension": ".py",
   "mimetype": "text/x-python",
   "name": "python",
   "nbconvert_exporter": "python",
   "pygments_lexer": "ipython2",
   "version": "2.7.13"
  }
 },
 "nbformat": 4,
 "nbformat_minor": 2
}
