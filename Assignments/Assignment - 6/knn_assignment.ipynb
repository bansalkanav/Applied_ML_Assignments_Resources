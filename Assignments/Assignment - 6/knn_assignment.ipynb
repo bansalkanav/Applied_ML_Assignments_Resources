{
 "cells": [
  {
   "cell_type": "markdown",
   "metadata": {},
   "source": [
    "# K- nearest neighbour algorithm"
   ]
  },
  {
   "cell_type": "markdown",
   "metadata": {},
   "source": [
    "<pre>\n",
    "Q1.\n",
    "    1. Download the Iris data set\n",
    "    2. Devide the whole data set into three data sets namely train(65% of data), cross valid(20% ofdata), test(15% of data) data sets by using a [0-1] random number genarator.\n",
    "    3. Find the best 'k' in range (3-20) for which the knn will give best accuracy on cross valid data set\n",
    "    4. Report the Precision, recall and Accuracy for choosen 'k' on test data\n",
    "Q2.\n",
    "    1. appply the same algorithm on mnist\n",
    "Note1: for the distance measure you can choose any of the Euclidean or Manhattan.\n",
    "Note2: It is your choice to normalize the data.\n",
    "</pre>"
   ]
  },
  {
   "cell_type": "markdown",
   "metadata": {},
   "source": []
  }
 ],
 "metadata": {
  "kernelspec": {
   "display_name": "Python 2",
   "language": "python",
   "name": "python2"
  },
  "language_info": {
   "codemirror_mode": {
    "name": "ipython",
    "version": 2
   },
   "file_extension": ".py",
   "mimetype": "text/x-python",
   "name": "python",
   "nbconvert_exporter": "python",
   "pygments_lexer": "ipython2",
   "version": "2.7.13"
  }
 },
 "nbformat": 4,
 "nbformat_minor": 2
}
