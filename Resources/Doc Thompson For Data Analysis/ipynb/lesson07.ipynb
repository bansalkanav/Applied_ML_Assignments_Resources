{
 "cells": [
  {
   "cell_type": "markdown",
   "metadata": {},
   "source": [
    "## Lesson 7 - Regular Expressions\n",
    "\n",
    "* Grep tutorials: [Drew's Grep Tutorial](http://www.uccs.edu/~ahitchco/grep/), [Linux Grep Tutorial](http://ryanstutorials.net/linuxtutorial/grep.php)\n",
    "* [Python Regular Expressions Tutorial](https://docs.python.org/2/howto/regex.html)"
   ]
  },
  {
   "cell_type": "markdown",
   "metadata": {},
   "source": [
    "Outline:\n",
    "\n",
    "* Regular expression syntax (whiteboard & demo)\n",
    "* grep examples (use grep -E)\n",
    "* sed examples (use sed -E)\n",
    "* Python examples: re module (note there are also built-in methods of objects)"
   ]
  },
  {
   "cell_type": "markdown",
   "metadata": {},
   "source": [
    "### Regular Expression Patterns\n",
    "\n",
    "#### Predefined character class abbreviations\n",
    "\n",
    "Construct        | Equivalent class | Negated construct   | Equivalent negated class\n",
    "-----------------|------------------|---------------------|-------------------------\n",
    "`\\d` (a digit)   | `[0-9]`          | `\\D` (digits, not!) | `[^0-9]`\n",
    "`\\w` (word char) | `[a-zA-Z0-9_]`   | `\\W` (words, not!)  | `[^a-zA-Z0-9_]`\n",
    "`\\s` (space char)| `[ \\r\\t\\n\\f]`    | `\\S` (words, not!)  | `[^ \\r\\t\\n\\f]`\n",
    "\n",
    "#### Multipliers\n",
    "\n",
    "Multiplier symbol | Bracket notation | Number of instances matched\n",
    ":----------------:|:----------------:|:-----------------:\n",
    "`*`               | `{0,}`           | 0, 1, 2, ...     \n",
    "`+`               | `{1,}`           | 1, 2, 3, ...      \n",
    "`?`               | `{0,1}`          | 0 or 1            \n",
    "                  | `{2}`            | 2                 \n",
    "                  | `{2,}`           | 2, 3, 4, ...      \n",
    "                  | `{1,3}`          | 1, 2 or 3        "
   ]
  },
  {
   "cell_type": "markdown",
   "metadata": {},
   "source": [
    "### Regular Expressions in Grep"
   ]
  },
  {
   "cell_type": "markdown",
   "metadata": {},
   "source": [
    "Use this example with `export GREP_OPTIONS='--color=auto'` (most of you have this specified already in your .bash_profile file)."
   ]
  },
  {
   "cell_type": "markdown",
   "metadata": {},
   "source": [
    "```\n",
    "$ cat > test_regex.txt\n",
    "AbBbBbCcCcCcDdDdDdDd\n",
    "Ab\n",
    "BbBb\n",
    "CcCcCc\n",
    "DdDdDdDd\n",
    "^C\n",
    "$ cat test_regex.txt | egrep \"Ab\"\n",
    "$ cat test_regex.txt | egrep \"Cc\"\n",
    "$ cat test_regex.txt | egrep \"Cc{3}\"\n",
    "$ cat test_regex.txt | egrep \"(Cc){3}\"\n",
    "$ cat test_regex.txt | egrep \"([A-Z][a-z]){3}\"\n",
    "$ cat test_regex.txt | egrep \"([A-Z][a-z]){5}\"\n",
    "```"
   ]
  },
  {
   "cell_type": "markdown",
   "metadata": {},
   "source": [
    "### Regular Expressions in Python"
   ]
  },
  {
   "cell_type": "markdown",
   "metadata": {},
   "source": [
    "Adapted from [TutorialsPoint](http://www.tutorialspoint.com/python/python_reg_expressions.htm).\n",
    "\n",
    "A *regular expression* is a special sequence of characters that helps you match or find other strings or sets of strings, using a specialized syntax held in a pattern. Regular expressions are widely used in the UNIX world.\n",
    "\n",
    "The module `re` provides full support for Perl-like regular expressions in Python. The `re` module raises the exception `re.error` if an error occurs while compiling or using a regular expression.\n",
    "\n",
    "We use three important functions -- `match`, `search` and `replace` -- to handle regular expressions. But a small thing first: There are various characters that would have special meaning if they were used in regular expressions. To avoid any confusion while dealing with regular expressions, we use raw strings as in `r'expression'`.\n",
    "\n",
    "To use regular expressions in Python, use the `re` module:"
   ]
  },
  {
   "cell_type": "code",
   "execution_count": 1,
   "metadata": {
    "collapsed": true
   },
   "outputs": [],
   "source": [
    "import re"
   ]
  },
  {
   "cell_type": "markdown",
   "metadata": {},
   "source": [
    "#### The match Function\n",
    "\n",
    "This function attempts to match RE *pattern* to *string* with optional flags.\n",
    "\n",
    "Here is the syntax for this function:\n",
    "\n",
    "\tre.match(pattern, string, flags=0)\n",
    "\n",
    "Here is the description of the parameters:\n",
    "\n",
    "| Parameter | Description |\n",
    "|:----------|:------------|\n",
    "| pattern   | This is the regular expression to be matched.|\n",
    "| string    | This is the string, which would be searched to match the pattern at the beginning of string.|\n",
    "| flags     | You can specify different flags using bitwise OR (&#124;). These are modifiers, which are listed in the table below.|\n",
    "\n",
    "The re.match function returns a match object on success, None on failure. We use group(num) or groups() function of match object to get matched expression:\n",
    "\n",
    "| Match Object Method | Description |\n",
    "|:--------------------|:------------|\n",
    "| group(num=0)        | This method returns entire match (or specific subgroup num) |\n",
    "| groups()            | This method returns all matching subgroups in a tuple (empty if there weren't any) |\n",
    "\t\n",
    "\n",
    "\n"
   ]
  },
  {
   "cell_type": "code",
   "execution_count": 2,
   "metadata": {
    "collapsed": false
   },
   "outputs": [
    {
     "name": "stdout",
     "output_type": "stream",
     "text": [
      "matchObj.group() :  Cats are smarter than dogs\n",
      "matchObj.group(1) :  Cats\n",
      "matchObj.group(2) :  smarter\n"
     ]
    }
   ],
   "source": [
    "#Example 1\n",
    "\n",
    "line = \"Cats are smarter than dogs\"\n",
    "\n",
    "matchObj = re.match( r'(.*) are (.*?) .*', line, re.I)\n",
    "\n",
    "if matchObj:\n",
    "  print(\"matchObj.group() : \", matchObj.group())\n",
    "  print(\"matchObj.group(1) : \", matchObj.group(1))\n",
    "  print(\"matchObj.group(2) : \", matchObj.group(2))\n",
    "else:\n",
    "  print(\"No match!!\")"
   ]
  },
  {
   "cell_type": "markdown",
   "metadata": {
    "collapsed": true
   },
   "source": [
    "#### The search Function\n",
    "\n",
    "This function searches for first occurrence of RE *pattern* within *string* with optional *flags*.\n",
    "\n",
    "Here is the syntax for this function (same as match):\n",
    "\n",
    "\tre.search(pattern, string, flags=0)"
   ]
  },
  {
   "cell_type": "code",
   "execution_count": 3,
   "metadata": {
    "collapsed": false
   },
   "outputs": [
    {
     "name": "stdout",
     "output_type": "stream",
     "text": [
      "searchObj.group() :  Cats are smarter than dogs\n",
      "searchObj.group(1) :  Cats\n",
      "searchObj.group(2) :  smarter\n"
     ]
    }
   ],
   "source": [
    "#Example 2\n",
    "\n",
    "line = \"Cats are smarter than dogs\"\n",
    "\n",
    "searchObj = re.search( r'(.*) are (.*?) .*', line, re.I)\n",
    "\n",
    "if searchObj:\n",
    "   print(\"searchObj.group() : \", searchObj.group())\n",
    "   print(\"searchObj.group(1) : \", searchObj.group(1))\n",
    "   print(\"searchObj.group(2) : \", searchObj.group(2))\n",
    "else:\n",
    "   print(\"Nothing found!!\")"
   ]
  },
  {
   "cell_type": "markdown",
   "metadata": {},
   "source": [
    "#### Matching Versus Searching\n",
    "\n",
    "Python offers two different primitive operations based on regular expressions: `match` checks for a match only at the beginning of the string, while `search` checks for a match anywhere in the string (this is what Perl does by default)."
   ]
  },
  {
   "cell_type": "code",
   "execution_count": 4,
   "metadata": {
    "collapsed": false
   },
   "outputs": [
    {
     "name": "stdout",
     "output_type": "stream",
     "text": [
      "No match!!\n",
      "search --> searchObj.group() :  dogs\n"
     ]
    }
   ],
   "source": [
    "# Example 3:\n",
    "\n",
    "line = \"Cats are smarter than dogs\";\n",
    "\n",
    "matchObj = re.match( r'dogs', line, re.I)\n",
    "if matchObj:\n",
    "   print(\"match --> matchObj.group() : \", matchObj.group())\n",
    "else:\n",
    "   print(\"No match!!\")\n",
    "\n",
    "searchObj = re.search( r'dogs', line, re.I)\n",
    "if searchObj:\n",
    "   print(\"search --> searchObj.group() : \", searchObj.group())\n",
    "else:\n",
    "   print(\"Nothing found!!\")"
   ]
  },
  {
   "cell_type": "markdown",
   "metadata": {},
   "source": [
    "#### The sub Function\n",
    "\n",
    "One of the most important re methods that use regular expressions is `sub`, which allows you to search and replace.\n",
    "\n",
    "Syntax:\n",
    "\n",
    "\tre.sub(pattern, repl, string, max=0)\n",
    "\n",
    "This method replaces all occurrences of the RE *pattern* in *string* with *repl*, substituting all occurrences unless *max* provided. This method returns modified string."
   ]
  },
  {
   "cell_type": "code",
   "execution_count": 5,
   "metadata": {
    "collapsed": false
   },
   "outputs": [
    {
     "name": "stdout",
     "output_type": "stream",
     "text": [
      "Phone Num :  2004-959-559 \n",
      "Phone Num :  2004959559\n"
     ]
    }
   ],
   "source": [
    "#Example 4\n",
    "\n",
    "phone = \"2004-959-559 # This is Phone Number\"\n",
    "\n",
    "# Delete Python-style comments\n",
    "num = re.sub(r'#.*$', \"\", phone)\n",
    "print(\"Phone Num : \", num)\n",
    "\n",
    "# Remove anything other than digits\n",
    "num = re.sub(r'\\D', \"\", phone)    \n",
    "print(\"Phone Num : \", num)"
   ]
  },
  {
   "cell_type": "markdown",
   "metadata": {},
   "source": [
    "#### The compile Function\n",
    "\n",
    "Regular expressions can be compiled into pattern objects, which have methods for various operations such as searching for pattern matches or performing string substitutions."
   ]
  },
  {
   "cell_type": "code",
   "execution_count": 6,
   "metadata": {
    "collapsed": false
   },
   "outputs": [
    {
     "name": "stdout",
     "output_type": "stream",
     "text": [
      "ab\n",
      "2 4\n",
      "tempo\n",
      "0 5\n"
     ]
    }
   ],
   "source": [
    "# Example 5\n",
    "\n",
    "p = re.compile('ab*')\n",
    "q = re.compile('[a-z]+')\n",
    "m = p.search('Drab')\n",
    "n = q.match('tempo')\n",
    "print(m.group())\n",
    "print(m.start(), m.end())\n",
    "print(n.group())\n",
    "print(n.start(), n.end())"
   ]
  },
  {
   "cell_type": "markdown",
   "metadata": {},
   "source": [
    "#### The findall Function\n",
    "\n",
    "If you want to find all examples of a regular expression in a string, `findall` will do this for you and return the results as a list. The following example will find all the lowercase letters in a string:"
   ]
  },
  {
   "cell_type": "code",
   "execution_count": 7,
   "metadata": {
    "collapsed": false
   },
   "outputs": [
    {
     "name": "stdout",
     "output_type": "stream",
     "text": [
      "['e', 'r', 'e', 's', 'a', 't', 'r', 'i', 'n', 'g']\n"
     ]
    }
   ],
   "source": [
    "# Example 6\n",
    "\n",
    "regex = re.compile('[a-z]')\n",
    "string = \"Here Is a String\"\n",
    "letters = regex.findall(string)\n",
    "print(letters)"
   ]
  },
  {
   "cell_type": "markdown",
   "metadata": {},
   "source": [
    "#### Regular Expression Modifiers: Option Flags\n",
    "\n",
    "Regular expression literals may include an optional modifier to control various aspects of matching. The modifiers are specified as an optional flag. You can provide multiple modifiers using exclusive OR (|), as shown previously and may be represented by one of the following:\n",
    "\n",
    "| Modifier | Description |\n",
    "|:----------|:------------|\n",
    "| re.I | Performs case-insensitive matching.\n",
    "| re.L | Interprets words according to the current locale. This interpretation affects the alphabetic group (\\w and \\W), as well as word boundary behavior (\\b and \\B).\n",
    "| re.M | Makes `$` match the end of a line (not just the end of the string) and makes ^ match the start of any line (not just the start of the string).\n",
    "| re.S | Makes a period (dot) match any character, including a newline.\n",
    "| re.U | Interprets letters according to the Unicode character set. This flag affects the behavior of \\w, \\W, \\b, \\B.\n",
    "| re.X | Permits \"cuter\" regular expression syntax. It ignores whitespace (except inside a set [] or when escaped by a backslash) and treats unescaped # as a comment marker.\n",
    "\n"
   ]
  },
  {
   "cell_type": "markdown",
   "metadata": {},
   "source": [
    "#### Regular Expression Patterns\n",
    "\n",
    "Except for control characters, `(+ ? . * ^ $ ( ) [ ] { } | \\)`, all characters match themselves. You can escape a control character by preceding it with a backslash.\n",
    "\n",
    "Following table lists the regular expression syntax that is available in Python:\n",
    "\n",
    "| Pattern | Description\n",
    "|:----------|:------------|\n",
    "| ^ | Matches beginning of line.\n",
    "| `$` | Matches end of line.\n",
    "| . | Matches any single character except newline. Using m option allows it to match newline as well.\n",
    "| [...] | Matches any single character in brackets.\n",
    "| [^...] | Matches any single character not in brackets\n",
    "| re* | Matches 0 or more occurrences of preceding expression.\n",
    "| re+ | Matches 1 or more occurrence of preceding expression.\n",
    "| re? | Matches 0 or 1 occurrence of preceding expression.\n",
    "| re{n} | Matches exactly n number of occurrences of preceding expression.\n",
    "| re{n,} | Matches n or more occurrences of preceding expression.\n",
    "| re{n, m} | Matches at least n and at most m occurrences of preceding expression.\n",
    "| `a` &#124; `b` | Matches either a or b.\n",
    "| (re) | Groups regular expressions and remembers matched text.\n",
    "| \\w | Matches word characters.\n",
    "| \\W | Matches nonword characters.\n",
    "| \\s | Matches whitespace. Equivalent to [\\t\\n\\r\\f].\n",
    "| \\S | Matches nonwhitespace.\n",
    "| \\d | Matches digits. Equivalent to [0-9].\n",
    "| \\D | Matches nondigits.\n",
    "| \\A | Matches beginning of string.\n",
    "| \\Z | Matches end of string. If a newline exists, it matches just before newline.\n",
    "| \\z | Matches end of string.\n",
    "| \\G | Matches point where last match finished.\n",
    "| \\b | Matches word boundaries when outside brackets. Matches backspace (0x08) when inside brackets.\n",
    "| \\B | Matches nonword boundaries.\n",
    "| \\n, \\t, etc. | Matches newlines, carriage returns, tabs, etc.\n",
    "| \\1...\\9 | Matches nth grouped subexpression.\n",
    "| \\10 | Matches nth grouped subexpression if it matched already. Otherwise refers to the octal representation of a character code."
   ]
  },
  {
   "cell_type": "markdown",
   "metadata": {},
   "source": [
    "#### Regular Expression Examples\n",
    "\n",
    "| Example | Description\n",
    "|:----------|:------------|\n",
    "| python | Match \"python\".\n",
    "| [Pp]ython | Match \"Python\" or \"python\"\n",
    "| rub[ye] | Match \"ruby\" or \"rube\"\n",
    "| [aeiou] | Match any one lowercase vowel\n",
    "| [0-9] | Match any digit; same as [0123456789]\n",
    "| [a-z] | Match any lowercase ASCII letter\n",
    "| [A-Z] | Match any uppercase ASCII letter\n",
    "| [a-zA-Z0-9] | Match any of the above\n",
    "| [^aeiou] | Match anything other than a lowercase vowel\n",
    "| [^0-9] | Match anything other than a digit"
   ]
  },
  {
   "cell_type": "markdown",
   "metadata": {},
   "source": [
    "#### Special Character Classes\n",
    "\n",
    "| Example | Description\n",
    "|:----------|:------------|\n",
    "| . | Match any character except newline\n",
    "| \\d | Match a digit: [0-9]\n",
    "| \\D | Match a nondigit: [^0-9]\n",
    "| \\s | Match a whitespace character: [ \\t\\r\\n\\f]\n",
    "| \\S | Match nonwhitespace: [^ \\t\\r\\n\\f]\n",
    "| \\w | Match a single word character: [A-Za-z0-9_]\n",
    "| \\W | Match a nonword character: [^A-Za-z0-9_]"
   ]
  },
  {
   "cell_type": "markdown",
   "metadata": {},
   "source": [
    "#### Repetition Cases\n",
    "\n",
    "| Example | Description\n",
    "|:----------|:------------|\n",
    "| ruby? | Match \"rub\" or \"ruby\": the y is optional\n",
    "| ruby* | Match \"rub\" plus 0 or more ys\n",
    "| ruby+ | Match \"rub\" plus 1 or more ys\n",
    "| \\d{3} | Match exactly 3 digits\n",
    "| \\d{3,} | Match 3 or more digits\n",
    "| \\d{3,5} | Match 3, 4, or 5 digits"
   ]
  },
  {
   "cell_type": "markdown",
   "metadata": {},
   "source": [
    "#### Nongreedy repetition\n",
    "\n",
    "This matches the smallest number of repetitions.\n",
    "\n",
    "| Example | Description|\n",
    "|:------|:-----------|\n",
    "| <.\\*> | Greedy repetition: matches \"<python>perl>\"|\n",
    "| <.*?> | Nongreedy: matches \"<python>\" in \"<python>perl>\"|"
   ]
  },
  {
   "cell_type": "markdown",
   "metadata": {},
   "source": [
    "#### Grouping with Parentheses\n",
    "\n",
    "| Example | Description|\n",
    "|:----------|:------------|\n",
    "| \\D\\d+ | No group: + repeats \\d\n",
    "| (\\D\\d)+ | Grouped: + repeats \\D\\d pair\n",
    "| ([Pp]ython(, )?)+ | Match \"Python\", \"Python, python, python\", etc."
   ]
  },
  {
   "cell_type": "markdown",
   "metadata": {},
   "source": [
    "#### Backreferences\n",
    "\n",
    "This matches a previously matched group again:\n",
    "\n",
    "| Example | Description |\n",
    "|:----------|:------------|\n",
    "|([Pp])ython&\\1ails | Match python&pails or Python&Pails |\n",
    "|(['\"])[^\\1]*\\1 | Single or double-quoted string. \\1 matches whatever the 1st group matched. \\2 matches whatever the 2nd group matched, etc. |"
   ]
  },
  {
   "cell_type": "markdown",
   "metadata": {},
   "source": [
    "#### Alternatives\n",
    "\n",
    "| Example | Description\n",
    "|:----------|:------------|\n",
    "| python&#124;perl | Match \"python\" or \"perl\"\n",
    "| rub(y&#124;le)) | Match \"ruby\" or \"ruble\"\n",
    "| Python(!+&#124;\\?) | \"Python\" followed by one or more ! or one ?"
   ]
  },
  {
   "cell_type": "markdown",
   "metadata": {},
   "source": [
    "#### Anchors\n",
    "\n",
    "This needs to specify match position.\n",
    "\n",
    "| Example | Description\n",
    "|:----------|:------------|\n",
    "| ^Python | Match \"Python\" at the start of a string or internal line\n",
    "| Python$ | Match \"Python\" at the end of a string or line\n",
    "| \\APython | Match \"Python\" at the start of a string\n",
    "| Python\\Z | Match \"Python\" at the end of a string\n",
    "| \\bPython\\b | Match \"Python\" at a word boundary\n",
    "| \\brub\\B | \\B is nonword boundary: match \"rub\" in \"rube\" and \"ruby\" but not alone\n",
    "| Python(?=!) | Match \"Python\", if followed by an exclamation point.\n",
    "| Python(?!!) | Match \"Python\", if not followed by an exclamation point."
   ]
  },
  {
   "cell_type": "markdown",
   "metadata": {},
   "source": [
    "#### Special Syntax with Parentheses\n",
    "\n",
    "| Example | Description\n",
    "|:----------|:------------|\n",
    "| R(?#comment) | Matches \"R\". All the rest is a comment\n",
    "| R(?i)uby | Case-insensitive while matching \"uby\"\n",
    "| R(?i:uby) | Same as above\n",
    "| rub(?:y&#124;le)) | Group only without creating \\1 backreference"
   ]
  },
  {
   "cell_type": "code",
   "execution_count": null,
   "metadata": {
    "collapsed": true
   },
   "outputs": [],
   "source": []
  }
 ],
 "metadata": {
  "anaconda-cloud": {},
  "kernelspec": {
   "display_name": "Python [conda env:python3]",
   "language": "python",
   "name": "conda-env-python3-py"
  },
  "language_info": {
   "codemirror_mode": {
    "name": "ipython",
    "version": 3
   },
   "file_extension": ".py",
   "mimetype": "text/x-python",
   "name": "python",
   "nbconvert_exporter": "python",
   "pygments_lexer": "ipython3",
   "version": "3.5.2"
  }
 },
 "nbformat": 4,
 "nbformat_minor": 1
}
